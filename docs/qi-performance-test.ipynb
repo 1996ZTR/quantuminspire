{
 "cells": [
  {
   "cell_type": "markdown",
   "metadata": {},
   "source": [
    "# Quantum Inspire performance test\n",
    "\n",
    "We compare performance of the simulator with the circuit from \n",
    "\n",
    "\"Overview and Comparison of Gate Level Quantum Software Platforms\", https://arxiv.org/abs/1807.02500\n",
    "\n",
    "Pieter Eendebak <pieter.eendebak@tno.nl>"
   ]
  },
  {
   "cell_type": "markdown",
   "metadata": {},
   "source": [
    "# Define the circuit"
   ]
  },
  {
   "cell_type": "code",
   "execution_count": 1,
   "metadata": {},
   "outputs": [],
   "source": [
    "from IPython.display import Math\n",
    "import numpy as np\n",
    "import itertools\n",
    "import warnings\n",
    "from colorama import Fore\n",
    "from imp import reload\n",
    "from getpass import getpass\n",
    "\n",
    "# importing the QISKit\n",
    "import qiskit\n",
    "from qiskit.tools.visualization import circuit_drawer\n",
    "from qiskit import QuantumCircuit, ClassicalRegister, QuantumRegister, QISKitError\n",
    "from qiskit import available_backends, execute, register, get_backend, compile\n",
    "from qiskit.tools.qi.qi import state_fidelity, concurrence, purity, outer\n",
    "from qiskit.tools.visualization import plot_state, plot_histogram\n",
    "from sympy.interactive import printing\n",
    "printing.init_printing(use_latex='png')\n",
    "from IPython.display import display, Math, Latex\n",
    "\n",
    "from requests.auth import HTTPBasicAuth\n",
    "from quantuminspire import QuantumInspireAPI\n",
    "from quantuminspire.qitools import format_vector, run_circuit"
   ]
  },
  {
   "cell_type": "markdown",
   "metadata": {},
   "source": [
    "We define the circuit based on the number of qubits and the depth (e.g. the number of iterations of the unit building block)."
   ]
  },
  {
   "cell_type": "code",
   "execution_count": 2,
   "metadata": {},
   "outputs": [
    {
     "name": "stderr",
     "output_type": "stream",
     "text": [
      "WARNING: Unable to compile latex. Is the `Qcircuit` latex package installed? Skipping latex circuit drawing...\n"
     ]
    },
    {
     "data": {
      "text/plain": [
       "None"
      ]
     },
     "metadata": {},
     "output_type": "display_data"
    },
    {
     "data": {
      "image/png": "[encoded data removed]",
      "text/plain": [
       "<Figure size 842.8x361.2 with 1 Axes>"
      ]
     },
     "metadata": {},
     "output_type": "display_data"
    }
   ],
   "source": [
    "def pcircuit(nqubits, depth = 10):\n",
    "    q = QuantumRegister(nqubits)\n",
    "    qc = QuantumCircuit(q)\n",
    "\n",
    "    for level in range(depth):\n",
    "        for qidx in range(nqubits):\n",
    "            qc.h( q[qidx] )\n",
    "        qc.barrier()\n",
    "        for qidx in range(nqubits):\n",
    "            qc.rx(np.pi/2, q[qidx])\n",
    "        qc.barrier()\n",
    "            \n",
    "        for qidx in range(nqubits):\n",
    "            if qidx!=0:\n",
    "                qc.cx(q[qidx], q[0])\n",
    "                \n",
    "    return q, qc\n",
    "\n",
    "q,qc=pcircuit(4, 1)\n",
    "cplot=circuit_drawer(qc)\n",
    "display(cplot)"
   ]
  },
  {
   "cell_type": "markdown",
   "metadata": {},
   "source": [
    "# Run the cirquit on the Quantum Inspire simulator"
   ]
  },
  {
   "cell_type": "markdown",
   "metadata": {},
   "source": [
    "First we make a connection to the Quantum Inspire website."
   ]
  },
  {
   "cell_type": "code",
   "execution_count": 5,
   "metadata": {},
   "outputs": [
    {
     "name": "stdout",
     "output_type": "stream",
     "text": [
      "backend: QX Single-node Simulator (qubits 26)\n",
      "backend: QX Single-node Simulator SurfSara (qubits 31)\n",
      "backend: QX Multi-node Simulator (qubits 37)\n",
      "backend: 10-Qubit NV Center (qubits 10)\n",
      "backend: 17-Qubit Transmon (qubits 17)\n",
      "backend: 2-Qubit Silicon Spin (qubits 2)\n",
      "backend: 5-Qubit Silicon Spin (qubits 5)\n"
     ]
    }
   ],
   "source": [
    "try:\n",
    "    passwd\n",
    "except:\n",
    "    print('Enter username')\n",
    "    username = input();\n",
    "    print('Enter password')\n",
    "    passwd = getpass();\n",
    "\n",
    "auth = HTTPBasicAuth(username, passwd)\n",
    "qi = QuantumInspireAPI(server=r'https://api.quantum-inspire.com/', auth=auth)  \n",
    "_=qi.list_backend_types()"
   ]
  },
  {
   "cell_type": "markdown",
   "metadata": {},
   "source": [
    "We create a QisKit backend for the Quantum Inspire interface and execute the circuit generated above."
   ]
  },
  {
   "cell_type": "code",
   "execution_count": 6,
   "metadata": {},
   "outputs": [
    {
     "name": "stderr",
     "output_type": "stream",
     "text": [
      "no measurements in circuit 'circuit1', classical register will remain all zeros.\n"
     ]
    },
    {
     "name": "stdout",
     "output_type": "stream",
     "text": [
      "backend: QX Single-node Simulator (qubits 26)\n",
      "backend: QX Single-node Simulator SurfSara (qubits 31)\n",
      "backend: QX Multi-node Simulator (qubits 37)\n",
      "backend: 10-Qubit NV Center (qubits 10)\n",
      "backend: 17-Qubit Transmon (qubits 17)\n",
      "backend: 2-Qubit Silicon Spin (qubits 2)\n",
      "backend: 5-Qubit Silicon Spin (qubits 5)\n",
      "run_circuit: number_of_shots 1024\n",
      "generate_cqasm: 4 qubits\n",
      "\n",
      "submitting qasm code to quantum inspire qi-sdk-job-97ffc026-970a-11e8-8385-0800271e4a8b\n",
      "waiting for result of job 363 (iteration 0)\n",
      "waiting for result of job 363 (iteration 1)\n",
      "waiting for result of job 363 (iteration 2)\n",
      "waiting for result of job 363 (iteration 3)\n",
      "waiting for result of job 363 (iteration 4)\n",
      "waiting for result of job 363 (iteration 5)\n",
      "waiting for result of job 363 (iteration 6)\n",
      "waiting for result of job 363 (iteration 7)\n",
      "waiting for result of job 363 (iteration 8)\n",
      "waiting for result of job 363 (iteration 9)\n",
      "waiting for result of job 363 (iteration 10)\n",
      "waiting for result of job 363 (iteration 11)\n",
      "waiting for result of job 363 (iteration 12)\n",
      "waiting for result of job 363 (iteration 13)\n",
      "waiting for result of job 363 (iteration 14)\n",
      "waiting for result of job 363 (iteration 15)\n",
      "waiting for result of job 363 (iteration 16)\n",
      "waiting for result of job 363 (iteration 17)\n",
      "waiting for result of job 363 (iteration 18)\n",
      "waiting for result of job 363 (iteration 19)\n",
      "waiting for result of job 363 (iteration 20)\n",
      "waiting for result of job 363 (iteration 21)\n",
      "waiting for result of job 363 (iteration 22)\n",
      "waiting for result of job 363 (iteration 23)\n",
      "waiting for result of job 363 (iteration 24)\n",
      "waiting for result of job 363 (iteration 25)\n",
      "waiting for result of job 363 (iteration 26)\n",
      "waiting for result of job 363 (iteration 27)\n",
      "waiting for result of job 363 (iteration 28)\n",
      "waiting for result of job 363 (iteration 29)\n",
      "waiting for result of job 363 (iteration 30)\n",
      "waiting for result of job 363 (iteration 31)\n",
      "waiting for result of job 363 (iteration 32)\n",
      "waiting for result of job 363 (iteration 33)\n",
      "waiting for result of job 363 (iteration 34)\n",
      "waiting for result of job 363 (iteration 35)\n",
      "waiting for result of job 363 (iteration 36)\n",
      "waiting for result of job 363 (iteration 37)\n",
      "waiting for result of job 363 (iteration 38)\n",
      "result of job 363 is COMPLETE\n"
     ]
    }
   ],
   "source": [
    "from quantuminspire.qiskit.qiskit_backend import QiSimulatorPy\n",
    "backend=QiSimulatorPy(qi_api=qi)    \n",
    "j=execute(qc, backend)"
   ]
  },
  {
   "cell_type": "markdown",
   "metadata": {},
   "source": [
    "We can print the results and also show the cQASM that was generated."
   ]
  },
  {
   "cell_type": "code",
   "execution_count": 7,
   "metadata": {},
   "outputs": [
    {
     "name": "stdout",
     "output_type": "stream",
     "text": [
      "\u001b[34mGenerated histogram:\u001b[39m\n",
      "{'2': 57.0, '5': 71.0, '12': 77.0, '9': 64.0, '13': 56.0, '15': 65.0, '10': 68.0, '0': 68.0, '11': 66.0, '8': 66.0, '7': 87.0, '3': 56.0, '6': 58.0, '4': 62.0, '1': 56.0, '14': 47.0}\n",
      "\u001b[34mGenerated cQASM:\u001b[39m\n",
      "version 1.0\n",
      "# cqasm generated by QI backend for QisKit\n",
      "qubits 4\n",
      "H q[3]\n",
      "H q[2]\n",
      "H q[1]\n",
      "H q[0]\n",
      "Rz q[0], \n",
      "....\n",
      ", q[0]\n",
      "CNOT q[3], q[0]\n",
      ".measurement\n",
      "   measure q[0]\n",
      "   measure q[1]\n",
      "   measure q[2]\n",
      "   measure q[3]\n",
      "\n"
     ]
    }
   ],
   "source": [
    "print(Fore.BLUE+'Generated histogram:' + Fore.RESET)\n",
    "print(j.get_counts())\n",
    "print(Fore.BLUE+'Generated cQASM:' + Fore.RESET)\n",
    "print(backend._cqasm[0:101] + '\\n....\\n' + backend._cqasm[-100:])"
   ]
  },
  {
   "cell_type": "markdown",
   "metadata": {},
   "source": [
    "Visualization can be done with the normal Python plotting routines, or with the QisKit SDK."
   ]
  },
  {
   "cell_type": "code",
   "execution_count": 8,
   "metadata": {},
   "outputs": [
    {
     "data": {
      "image/png": "[encoded data removed]",
      "text/plain": [
       "<Figure size 432x288 with 1 Axes>"
      ]
     },
     "metadata": {},
     "output_type": "display_data"
    }
   ],
   "source": [
    "plot_histogram(j.get_counts(qc))"
   ]
  },
  {
   "cell_type": "markdown",
   "metadata": {},
   "source": [
    "To compare we will run the circuit with 20 qubits and depth 20. This takes:\n",
    "\n",
    "* QisKit: 3.7 seconds\n",
    "* ProjectQ: 2.0 seconds"
   ]
  },
  {
   "cell_type": "code",
   "execution_count": 9,
   "metadata": {},
   "outputs": [
    {
     "name": "stderr",
     "output_type": "stream",
     "text": [
      "no measurements in circuit 'circuit2', classical register will remain all zeros.\n"
     ]
    },
    {
     "name": "stdout",
     "output_type": "stream",
     "text": [
      "run_circuit: number_of_shots 1024\n",
      "generate_cqasm: 20 qubits\n",
      "\n",
      "submitting qasm code to quantum inspire qi-sdk-job-c11aec10-970a-11e8-8385-0800271e4a8b\n",
      "waiting for result of job 364 (iteration 0)\n",
      "waiting for result of job 364 (iteration 1)\n",
      "waiting for result of job 364 (iteration 2)\n",
      "waiting for result of job 364 (iteration 3)\n",
      "waiting for result of job 364 (iteration 4)\n",
      "waiting for result of job 364 (iteration 5)\n",
      "waiting for result of job 364 (iteration 6)\n",
      "waiting for result of job 364 (iteration 7)\n",
      "waiting for result of job 364 (iteration 8)\n",
      "waiting for result of job 364 (iteration 9)\n",
      "waiting for result of job 364 (iteration 10)\n",
      "waiting for result of job 364 (iteration 11)\n",
      "waiting for result of job 364 (iteration 12)\n",
      "waiting for result of job 364 (iteration 13)\n",
      "waiting for result of job 364 (iteration 14)\n",
      "waiting for result of job 364 (iteration 15)\n",
      "waiting for result of job 364 (iteration 16)\n",
      "waiting for result of job 364 (iteration 17)\n",
      "waiting for result of job 364 (iteration 18)\n",
      "waiting for result of job 364 (iteration 19)\n",
      "waiting for result of job 364 (iteration 20)\n",
      "waiting for result of job 364 (iteration 21)\n",
      "waiting for result of job 364 (iteration 22)\n",
      "waiting for result of job 364 (iteration 23)\n",
      "waiting for result of job 364 (iteration 24)\n",
      "waiting for result of job 364 (iteration 25)\n",
      "waiting for result of job 364 (iteration 26)\n",
      "waiting for result of job 364 (iteration 27)\n",
      "waiting for result of job 364 (iteration 28)\n",
      "waiting for result of job 364 (iteration 29)\n",
      "waiting for result of job 364 (iteration 30)\n",
      "waiting for result of job 364 (iteration 31)\n",
      "waiting for result of job 364 (iteration 32)\n",
      "waiting for result of job 364 (iteration 33)\n",
      "waiting for result of job 364 (iteration 34)\n",
      "waiting for result of job 364 (iteration 35)\n",
      "waiting for result of job 364 (iteration 36)\n",
      "waiting for result of job 364 (iteration 37)\n",
      "waiting for result of job 364 (iteration 38)\n",
      "waiting for result of job 364 (iteration 39)\n",
      "waiting for result of job 364 (iteration 40)\n",
      "waiting for result of job 364 (iteration 41)\n",
      "waiting for result of job 364 (iteration 42)\n",
      "waiting for result of job 364 (iteration 43)\n",
      "waiting for result of job 364 (iteration 44)\n",
      "waiting for result of job 364 (iteration 45)\n",
      "waiting for result of job 364 (iteration 46)\n",
      "waiting for result of job 364 (iteration 47)\n",
      "waiting for result of job 364 (iteration 48)\n",
      "waiting for result of job 364 (iteration 49)\n",
      "waiting for result of job 364 (iteration 50)\n",
      "waiting for result of job 364 (iteration 51)\n",
      "waiting for result of job 364 (iteration 52)\n",
      "waiting for result of job 364 (iteration 53)\n",
      "waiting for result of job 364 (iteration 54)\n",
      "waiting for result of job 364 (iteration 55)\n",
      "waiting for result of job 364 (iteration 56)\n",
      "waiting for result of job 364 (iteration 57)\n",
      "waiting for result of job 364 (iteration 58)\n",
      "waiting for result of job 364 (iteration 59)\n",
      "waiting for result of job 364 (iteration 60)\n",
      "waiting for result of job 364 (iteration 61)\n",
      "waiting for result of job 364 (iteration 62)\n",
      "waiting for result of job 364 (iteration 63)\n",
      "waiting for result of job 364 (iteration 64)\n",
      "waiting for result of job 364 (iteration 65)\n",
      "waiting for result of job 364 (iteration 66)\n",
      "waiting for result of job 364 (iteration 67)\n",
      "waiting for result of job 364 (iteration 68)\n",
      "waiting for result of job 364 (iteration 69)\n",
      "waiting for result of job 364 (iteration 70)\n",
      "waiting for result of job 364 (iteration 71)\n",
      "waiting for result of job 364 (iteration 72)\n",
      "waiting for result of job 364 (iteration 73)\n",
      "waiting for result of job 364 (iteration 74)\n",
      "waiting for result of job 364 (iteration 75)\n",
      "waiting for result of job 364 (iteration 76)\n",
      "waiting for result of job 364 (iteration 77)\n",
      "waiting for result of job 364 (iteration 78)\n",
      "waiting for result of job 364 (iteration 79)\n",
      "waiting for result of job 364 (iteration 80)\n",
      "waiting for result of job 364 (iteration 81)\n",
      "waiting for result of job 364 (iteration 82)\n",
      "waiting for result of job 364 (iteration 83)\n",
      "waiting for result of job 364 (iteration 84)\n",
      "waiting for result of job 364 (iteration 85)\n",
      "waiting for result of job 364 (iteration 86)\n",
      "waiting for result of job 364 (iteration 87)\n",
      "waiting for result of job 364 (iteration 88)\n",
      "waiting for result of job 364 (iteration 89)\n",
      "waiting for result of job 364 (iteration 90)\n",
      "waiting for result of job 364 (iteration 91)\n",
      "waiting for result of job 364 (iteration 92)\n",
      "waiting for result of job 364 (iteration 93)\n",
      "waiting for result of job 364 (iteration 94)\n",
      "waiting for result of job 364 (iteration 95)\n",
      "waiting for result of job 364 (iteration 96)\n",
      "waiting for result of job 364 (iteration 97)\n",
      "waiting for result of job 364 (iteration 98)\n",
      "waiting for result of job 364 (iteration 99)\n",
      "waiting for result of job 364 (iteration 100)\n",
      "waiting for result of job 364 (iteration 101)\n",
      "waiting for result of job 364 (iteration 102)\n",
      "waiting for result of job 364 (iteration 103)\n",
      "waiting for result of job 364 (iteration 104)\n",
      "waiting for result of job 364 (iteration 105)\n",
      "waiting for result of job 364 (iteration 106)\n",
      "waiting for result of job 364 (iteration 107)\n",
      "waiting for result of job 364 (iteration 108)\n",
      "waiting for result of job 364 (iteration 109)\n",
      "waiting for result of job 364 (iteration 110)\n",
      "waiting for result of job 364 (iteration 111)\n",
      "waiting for result of job 364 (iteration 112)\n",
      "waiting for result of job 364 (iteration 113)\n",
      "waiting for result of job 364 (iteration 114)\n",
      "waiting for result of job 364 (iteration 115)\n",
      "waiting for result of job 364 (iteration 116)\n",
      "waiting for result of job 364 (iteration 117)\n",
      "waiting for result of job 364 (iteration 118)\n",
      "waiting for result of job 364 (iteration 119)\n",
      "waiting for result of job 364 (iteration 120)\n",
      "waiting for result of job 364 (iteration 121)\n",
      "waiting for result of job 364 (iteration 122)\n",
      "waiting for result of job 364 (iteration 123)\n",
      "waiting for result of job 364 (iteration 124)\n",
      "waiting for result of job 364 (iteration 125)\n",
      "waiting for result of job 364 (iteration 126)\n",
      "waiting for result of job 364 (iteration 127)\n",
      "waiting for result of job 364 (iteration 128)\n",
      "waiting for result of job 364 (iteration 129)\n",
      "waiting for result of job 364 (iteration 130)\n",
      "waiting for result of job 364 (iteration 131)\n",
      "waiting for result of job 364 (iteration 132)\n",
      "waiting for result of job 364 (iteration 133)\n",
      "waiting for result of job 364 (iteration 134)\n",
      "waiting for result of job 364 (iteration 135)\n",
      "waiting for result of job 364 (iteration 136)\n",
      "waiting for result of job 364 (iteration 137)\n",
      "waiting for result of job 364 (iteration 138)\n",
      "waiting for result of job 364 (iteration 139)\n",
      "waiting for result of job 364 (iteration 140)\n",
      "waiting for result of job 364 (iteration 141)\n",
      "waiting for result of job 364 (iteration 142)\n",
      "waiting for result of job 364 (iteration 143)\n",
      "waiting for result of job 364 (iteration 144)\n",
      "waiting for result of job 364 (iteration 145)\n",
      "waiting for result of job 364 (iteration 146)\n",
      "waiting for result of job 364 (iteration 147)\n",
      "waiting for result of job 364 (iteration 148)\n",
      "waiting for result of job 364 (iteration 149)\n",
      "waiting for result of job 364 (iteration 150)\n",
      "waiting for result of job 364 (iteration 151)\n",
      "waiting for result of job 364 (iteration 152)\n",
      "waiting for result of job 364 (iteration 153)\n",
      "waiting for result of job 364 (iteration 154)\n",
      "waiting for result of job 364 (iteration 155)\n",
      "waiting for result of job 364 (iteration 156)\n",
      "waiting for result of job 364 (iteration 157)\n",
      "waiting for result of job 364 (iteration 158)\n",
      "waiting for result of job 364 (iteration 159)\n",
      "waiting for result of job 364 (iteration 160)\n",
      "waiting for result of job 364 (iteration 161)\n",
      "waiting for result of job 364 (iteration 162)\n",
      "waiting for result of job 364 (iteration 163)\n",
      "waiting for result of job 364 (iteration 164)\n",
      "waiting for result of job 364 (iteration 165)\n",
      "waiting for result of job 364 (iteration 166)\n",
      "waiting for result of job 364 (iteration 167)\n",
      "waiting for result of job 364 (iteration 168)\n",
      "waiting for result of job 364 (iteration 169)\n",
      "waiting for result of job 364 (iteration 170)\n",
      "waiting for result of job 364 (iteration 171)\n",
      "waiting for result of job 364 (iteration 172)\n",
      "waiting for result of job 364 (iteration 173)\n",
      "waiting for result of job 364 (iteration 174)\n",
      "waiting for result of job 364 (iteration 175)\n",
      "waiting for result of job 364 (iteration 176)\n",
      "waiting for result of job 364 (iteration 177)\n"
     ]
    },
    {
     "name": "stdout",
     "output_type": "stream",
     "text": [
      "waiting for result of job 364 (iteration 178)\n",
      "waiting for result of job 364 (iteration 179)\n",
      "waiting for result of job 364 (iteration 180)\n",
      "waiting for result of job 364 (iteration 181)\n",
      "waiting for result of job 364 (iteration 182)\n",
      "waiting for result of job 364 (iteration 183)\n",
      "waiting for result of job 364 (iteration 184)\n",
      "waiting for result of job 364 (iteration 185)\n",
      "waiting for result of job 364 (iteration 186)\n",
      "waiting for result of job 364 (iteration 187)\n",
      "waiting for result of job 364 (iteration 188)\n",
      "waiting for result of job 364 (iteration 189)\n",
      "waiting for result of job 364 (iteration 190)\n",
      "waiting for result of job 364 (iteration 191)\n",
      "waiting for result of job 364 (iteration 192)\n",
      "waiting for result of job 364 (iteration 193)\n",
      "waiting for result of job 364 (iteration 194)\n",
      "waiting for result of job 364 (iteration 195)\n",
      "waiting for result of job 364 (iteration 196)\n",
      "waiting for result of job 364 (iteration 197)\n",
      "waiting for result of job 364 (iteration 198)\n",
      "waiting for result of job 364 (iteration 199)\n",
      "waiting for result of job 364 (iteration 200)\n",
      "waiting for result of job 364 (iteration 201)\n",
      "waiting for result of job 364 (iteration 202)\n",
      "waiting for result of job 364 (iteration 203)\n",
      "waiting for result of job 364 (iteration 204)\n",
      "waiting for result of job 364 (iteration 205)\n",
      "waiting for result of job 364 (iteration 206)\n",
      "waiting for result of job 364 (iteration 207)\n",
      "waiting for result of job 364 (iteration 208)\n",
      "waiting for result of job 364 (iteration 209)\n",
      "waiting for result of job 364 (iteration 210)\n",
      "waiting for result of job 364 (iteration 211)\n",
      "waiting for result of job 364 (iteration 212)\n",
      "waiting for result of job 364 (iteration 213)\n",
      "waiting for result of job 364 (iteration 214)\n",
      "waiting for result of job 364 (iteration 215)\n",
      "waiting for result of job 364 (iteration 216)\n",
      "waiting for result of job 364 (iteration 217)\n",
      "waiting for result of job 364 (iteration 218)\n",
      "waiting for result of job 364 (iteration 219)\n",
      "waiting for result of job 364 (iteration 220)\n",
      "waiting for result of job 364 (iteration 221)\n",
      "waiting for result of job 364 (iteration 222)\n",
      "waiting for result of job 364 (iteration 223)\n",
      "waiting for result of job 364 (iteration 224)\n",
      "waiting for result of job 364 (iteration 225)\n",
      "waiting for result of job 364 (iteration 226)\n",
      "waiting for result of job 364 (iteration 227)\n",
      "waiting for result of job 364 (iteration 228)\n",
      "waiting for result of job 364 (iteration 229)\n",
      "waiting for result of job 364 (iteration 230)\n",
      "waiting for result of job 364 (iteration 231)\n",
      "waiting for result of job 364 (iteration 232)\n",
      "waiting for result of job 364 (iteration 233)\n",
      "waiting for result of job 364 (iteration 234)\n",
      "waiting for result of job 364 (iteration 235)\n",
      "waiting for result of job 364 (iteration 236)\n",
      "waiting for result of job 364 (iteration 237)\n",
      "waiting for result of job 364 (iteration 238)\n",
      "waiting for result of job 364 (iteration 239)\n",
      "waiting for result of job 364 (iteration 240)\n",
      "waiting for result of job 364 (iteration 241)\n",
      "waiting for result of job 364 (iteration 242)\n",
      "waiting for result of job 364 (iteration 243)\n",
      "waiting for result of job 364 (iteration 244)\n",
      "waiting for result of job 364 (iteration 245)\n",
      "waiting for result of job 364 (iteration 246)\n",
      "waiting for result of job 364 (iteration 247)\n",
      "waiting for result of job 364 (iteration 248)\n",
      "waiting for result of job 364 (iteration 249)\n",
      "waiting for result of job 364 (iteration 250)\n",
      "waiting for result of job 364 (iteration 251)\n",
      "waiting for result of job 364 (iteration 252)\n",
      "waiting for result of job 364 (iteration 253)\n",
      "waiting for result of job 364 (iteration 254)\n",
      "waiting for result of job 364 (iteration 255)\n",
      "waiting for result of job 364 (iteration 256)\n",
      "waiting for result of job 364 (iteration 257)\n",
      "waiting for result of job 364 (iteration 258)\n",
      "waiting for result of job 364 (iteration 259)\n",
      "waiting for result of job 364 (iteration 260)\n",
      "waiting for result of job 364 (iteration 261)\n",
      "waiting for result of job 364 (iteration 262)\n",
      "waiting for result of job 364 (iteration 263)\n",
      "waiting for result of job 364 (iteration 264)\n",
      "waiting for result of job 364 (iteration 265)\n",
      "waiting for result of job 364 (iteration 266)\n",
      "waiting for result of job 364 (iteration 267)\n",
      "waiting for result of job 364 (iteration 268)\n",
      "waiting for result of job 364 (iteration 269)\n",
      "waiting for result of job 364 (iteration 270)\n",
      "waiting for result of job 364 (iteration 271)\n",
      "waiting for result of job 364 (iteration 272)\n",
      "waiting for result of job 364 (iteration 273)\n",
      "waiting for result of job 364 (iteration 274)\n",
      "waiting for result of job 364 (iteration 275)\n",
      "waiting for result of job 364 (iteration 276)\n",
      "waiting for result of job 364 (iteration 277)\n",
      "waiting for result of job 364 (iteration 278)\n",
      "waiting for result of job 364 (iteration 279)\n",
      "waiting for result of job 364 (iteration 280)\n",
      "waiting for result of job 364 (iteration 281)\n",
      "waiting for result of job 364 (iteration 282)\n",
      "waiting for result of job 364 (iteration 283)\n",
      "waiting for result of job 364 (iteration 284)\n",
      "waiting for result of job 364 (iteration 285)\n",
      "waiting for result of job 364 (iteration 286)\n",
      "waiting for result of job 364 (iteration 287)\n",
      "waiting for result of job 364 (iteration 288)\n",
      "waiting for result of job 364 (iteration 289)\n",
      "waiting for result of job 364 (iteration 290)\n",
      "waiting for result of job 364 (iteration 291)\n",
      "waiting for result of job 364 (iteration 292)\n",
      "waiting for result of job 364 (iteration 293)\n",
      "waiting for result of job 364 (iteration 294)\n",
      "waiting for result of job 364 (iteration 295)\n",
      "waiting for result of job 364 (iteration 296)\n",
      "waiting for result of job 364 (iteration 297)\n",
      "waiting for result of job 364 (iteration 298)\n",
      "waiting for result of job 364 (iteration 299)\n",
      "result of job 364 is RUNNING\n"
     ]
    },
    {
     "ename": "TypeError",
     "evalue": "'NoneType' object is not subscriptable",
     "output_type": "error",
     "traceback": [
      "\u001b[0;31m---------------------------------------------------------------------------\u001b[0m",
      "\u001b[0;31mTypeError\u001b[0m                                 Traceback (most recent call last)",
      "\u001b[0;32m<ipython-input-9-382d5be2cdda>\u001b[0m in \u001b[0;36m<module>\u001b[0;34m()\u001b[0m\n\u001b[1;32m      1\u001b[0m \u001b[0mq\u001b[0m\u001b[0;34m,\u001b[0m\u001b[0mqc\u001b[0m\u001b[0;34m=\u001b[0m\u001b[0mpcircuit\u001b[0m\u001b[0;34m(\u001b[0m\u001b[0;36m20\u001b[0m\u001b[0;34m,\u001b[0m \u001b[0;36m20\u001b[0m\u001b[0;34m)\u001b[0m\u001b[0;34m\u001b[0m\u001b[0m\n\u001b[0;32m----> 2\u001b[0;31m \u001b[0mj\u001b[0m\u001b[0;34m=\u001b[0m\u001b[0mexecute\u001b[0m\u001b[0;34m(\u001b[0m\u001b[0mqc\u001b[0m\u001b[0;34m,\u001b[0m \u001b[0mbackend\u001b[0m\u001b[0;34m)\u001b[0m\u001b[0;34m\u001b[0m\u001b[0m\n\u001b[0m",
      "\u001b[0;32m~/src/generic/SDK/env/lib/python3.6/site-packages/qiskit/wrapper/_wrapper.py\u001b[0m in \u001b[0;36mexecute\u001b[0;34m(circuits, backend, config, basis_gates, coupling_map, initial_layout, shots, max_credits, seed, qobj_id, hpc, skip_transpiler)\u001b[0m\n\u001b[1;32m    275\u001b[0m                    \u001b[0mshots\u001b[0m\u001b[0;34m,\u001b[0m \u001b[0mmax_credits\u001b[0m\u001b[0;34m,\u001b[0m \u001b[0mseed\u001b[0m\u001b[0;34m,\u001b[0m \u001b[0mqobj_id\u001b[0m\u001b[0;34m,\u001b[0m \u001b[0mhpc\u001b[0m\u001b[0;34m,\u001b[0m\u001b[0;34m\u001b[0m\u001b[0m\n\u001b[1;32m    276\u001b[0m                    skip_transpiler)\n\u001b[0;32m--> 277\u001b[0;31m     \u001b[0;32mreturn\u001b[0m \u001b[0mbackend\u001b[0m\u001b[0;34m.\u001b[0m\u001b[0mrun\u001b[0m\u001b[0;34m(\u001b[0m\u001b[0mqobj\u001b[0m\u001b[0;34m)\u001b[0m\u001b[0;34m\u001b[0m\u001b[0m\n\u001b[0m\u001b[1;32m    278\u001b[0m \u001b[0;34m\u001b[0m\u001b[0m\n\u001b[1;32m    279\u001b[0m \u001b[0;34m\u001b[0m\u001b[0m\n",
      "\u001b[0;32m~/src/generic/SDK/quantuminspire/qiskit/qiskit_backend.py\u001b[0m in \u001b[0;36mrun\u001b[0;34m(self, q_job)\u001b[0m\n\u001b[1;32m     89\u001b[0m             \u001b[0mLocalJob\u001b[0m\u001b[0;34m:\u001b[0m \u001b[0mderived\u001b[0m \u001b[0;32mfrom\u001b[0m \u001b[0mBaseJob\u001b[0m\u001b[0;34m\u001b[0m\u001b[0m\n\u001b[1;32m     90\u001b[0m         \"\"\"\n\u001b[0;32m---> 91\u001b[0;31m         \u001b[0;32mreturn\u001b[0m \u001b[0mself\u001b[0m\u001b[0;34m.\u001b[0m\u001b[0m_run_job\u001b[0m\u001b[0;34m(\u001b[0m\u001b[0mq_job\u001b[0m\u001b[0;34m)\u001b[0m\u001b[0;34m\u001b[0m\u001b[0m\n\u001b[0m\u001b[1;32m     92\u001b[0m \u001b[0;34m\u001b[0m\u001b[0m\n\u001b[1;32m     93\u001b[0m     \u001b[0;32mdef\u001b[0m \u001b[0m_run_job\u001b[0m\u001b[0;34m(\u001b[0m\u001b[0mself\u001b[0m\u001b[0;34m,\u001b[0m \u001b[0mqobj\u001b[0m\u001b[0;34m)\u001b[0m\u001b[0;34m:\u001b[0m\u001b[0;34m\u001b[0m\u001b[0m\n",
      "\u001b[0;32m~/src/generic/SDK/quantuminspire/qiskit/qiskit_backend.py\u001b[0m in \u001b[0;36m_run_job\u001b[0;34m(self, qobj)\u001b[0m\n\u001b[1;32m    101\u001b[0m         \u001b[0mstart\u001b[0m \u001b[0;34m=\u001b[0m \u001b[0mtime\u001b[0m\u001b[0;34m.\u001b[0m\u001b[0mtime\u001b[0m\u001b[0;34m(\u001b[0m\u001b[0;34m)\u001b[0m\u001b[0;34m\u001b[0m\u001b[0m\n\u001b[1;32m    102\u001b[0m         \u001b[0;32mfor\u001b[0m \u001b[0mcircuit\u001b[0m \u001b[0;32min\u001b[0m \u001b[0mqobj\u001b[0m\u001b[0;34m[\u001b[0m\u001b[0;34m'circuits'\u001b[0m\u001b[0;34m]\u001b[0m\u001b[0;34m:\u001b[0m\u001b[0;34m\u001b[0m\u001b[0m\n\u001b[0;32m--> 103\u001b[0;31m             \u001b[0mresult_list\u001b[0m\u001b[0;34m.\u001b[0m\u001b[0mappend\u001b[0m\u001b[0;34m(\u001b[0m\u001b[0mself\u001b[0m\u001b[0;34m.\u001b[0m\u001b[0mrun_circuit\u001b[0m\u001b[0;34m(\u001b[0m\u001b[0mcircuit\u001b[0m\u001b[0;34m)\u001b[0m\u001b[0;34m)\u001b[0m\u001b[0;34m\u001b[0m\u001b[0m\n\u001b[0m\u001b[1;32m    104\u001b[0m         \u001b[0mend\u001b[0m \u001b[0;34m=\u001b[0m \u001b[0mtime\u001b[0m\u001b[0;34m.\u001b[0m\u001b[0mtime\u001b[0m\u001b[0;34m(\u001b[0m\u001b[0;34m)\u001b[0m\u001b[0;34m\u001b[0m\u001b[0m\n\u001b[1;32m    105\u001b[0m         \u001b[0mjob_id\u001b[0m \u001b[0;34m=\u001b[0m \u001b[0mstr\u001b[0m\u001b[0;34m(\u001b[0m\u001b[0muuid\u001b[0m\u001b[0;34m.\u001b[0m\u001b[0muuid4\u001b[0m\u001b[0;34m(\u001b[0m\u001b[0;34m)\u001b[0m\u001b[0;34m)\u001b[0m\u001b[0;34m\u001b[0m\u001b[0m\n",
      "\u001b[0;32m~/src/generic/SDK/quantuminspire/qiskit/qiskit_backend.py\u001b[0m in \u001b[0;36mrun_circuit\u001b[0;34m(self, circuit)\u001b[0m\n\u001b[1;32m    226\u001b[0m         \u001b[0mself\u001b[0m\u001b[0;34m.\u001b[0m\u001b[0m_qi_results\u001b[0m \u001b[0;34m=\u001b[0m \u001b[0mresults\u001b[0m\u001b[0;34m\u001b[0m\u001b[0m\n\u001b[1;32m    227\u001b[0m \u001b[0;34m\u001b[0m\u001b[0m\n\u001b[0;32m--> 228\u001b[0;31m         \u001b[0mcounts\u001b[0m \u001b[0;34m=\u001b[0m \u001b[0mcopy\u001b[0m\u001b[0;34m.\u001b[0m\u001b[0mcopy\u001b[0m\u001b[0;34m(\u001b[0m\u001b[0mresults\u001b[0m\u001b[0;34m[\u001b[0m\u001b[0;34m'histogram'\u001b[0m\u001b[0;34m]\u001b[0m\u001b[0;34m)\u001b[0m\u001b[0;34m\u001b[0m\u001b[0m\n\u001b[0m\u001b[1;32m    229\u001b[0m         \u001b[0;32mfor\u001b[0m \u001b[0mk\u001b[0m \u001b[0;32min\u001b[0m \u001b[0mcounts\u001b[0m\u001b[0;34m:\u001b[0m\u001b[0;34m\u001b[0m\u001b[0m\n\u001b[1;32m    230\u001b[0m             \u001b[0mcounts\u001b[0m\u001b[0;34m[\u001b[0m\u001b[0mk\u001b[0m\u001b[0;34m]\u001b[0m \u001b[0;34m=\u001b[0m \u001b[0mcounts\u001b[0m\u001b[0;34m[\u001b[0m\u001b[0mk\u001b[0m\u001b[0;34m]\u001b[0m \u001b[0;34m*\u001b[0m \u001b[0mnumber_of_shots\u001b[0m\u001b[0;34m\u001b[0m\u001b[0m\n",
      "\u001b[0;31mTypeError\u001b[0m: 'NoneType' object is not subscriptable"
     ]
    }
   ],
   "source": [
    "q,qc=pcircuit(20, 20)\n",
    "j=execute(qc, backend)"
   ]
  },
  {
   "cell_type": "markdown",
   "metadata": {},
   "source": [
    "## Notes"
   ]
  },
  {
   "cell_type": "markdown",
   "metadata": {},
   "source": [
    "The implementation of the $sqrt(X)$ gate was done a series of $R_z$ and $R_y$ rotations."
   ]
  },
  {
   "cell_type": "code",
   "execution_count": 8,
   "metadata": {},
   "outputs": [
    {
     "name": "stdout",
     "output_type": "stream",
     "text": [
      "               [[cos(theta/2) -exp(1.0*I*lambda)*sin(theta/2)]               \n",
      " [exp(1.0*I*phi)*sin(theta/2) exp(1.0*I*lambda)*exp(1.0*I*phi)*cos(theta/2)]]\n"
     ]
    }
   ],
   "source": [
    "# decompose U from \n",
    "#https://quantumexperience.ng.bluemix.net/qx/tutorial?sectionId=full-user-guide&page=002-The_Weird_and_Wonderful_World_of_the_Qubit~2F004-advanced_qubit_gates\n",
    "I=1j\n",
    "from numpy import cos, sin\n",
    "import sympy as sp\n",
    "from sympy import exp,pprint\n",
    "from sympy.functions.elementary.trigonometric import cos,sin\n",
    "\n",
    "theta,psi,phi,l = sp.symbols('theta psi phi lambda')\n",
    "\n",
    "A=np.matrix([[1,0],[0,sp.exp(I*phi)]])\n",
    "B=np.matrix([[cos(theta/2),-sin(theta/2)],[sin(theta/2),cos(theta/2)]])\n",
    "C=np.matrix([[1,0],[0,sp.exp(I*l)]])\n",
    "pprint(A*B*C)\n"
   ]
  },
  {
   "cell_type": "code",
   "execution_count": null,
   "metadata": {
    "collapsed": true
   },
   "outputs": [],
   "source": []
  }
 ],
 "metadata": {
  "anaconda-cloud": {},
  "kernelspec": {
   "display_name": "Python 3",
   "language": "python",
   "name": "python3"
  },
  "language_info": {
   "codemirror_mode": {
    "name": "ipython",
    "version": 3
   },
   "file_extension": ".py",
   "mimetype": "text/x-python",
   "name": "python",
   "nbconvert_exporter": "python",
   "pygments_lexer": "ipython3",
   "version": "3.6.5"
  },
  "latex_envs": {
   "bibliofile": "biblio.bib",
   "cite_by": "apalike",
   "current_citInitial": 1,
   "eqLabelWithNumbers": true,
   "eqNumInitial": 0
  },
  "nav_menu": {},
  "toc": {
   "navigate_menu": true,
   "number_sections": true,
   "sideBar": true,
   "threshold": 6,
   "toc_cell": false,
   "toc_section_display": "block",
   "toc_window_display": false
  }
 },
 "nbformat": 4,
 "nbformat_minor": 1
}
