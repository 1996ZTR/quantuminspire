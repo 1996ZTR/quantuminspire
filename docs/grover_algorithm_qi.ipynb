{
 "cells": [
  {
   "cell_type": "markdown",
   "metadata": {},
   "source": [
    "# Grover Search Algorithm\n",
    "\n",
    "This notebook is an adapted version from https://github.com/QISKit/qiskit-tutorial. We show to to perform the Grover Search algorithm both on a local simulator and on the Quantum Inspire backend.\n",
    "\n",
    "For more information about how to use the IBM Q Experience (QX), consult the [tutorials](https://quantumexperience.ng.bluemix.net/qstage/#/tutorial?sectionId=c59b3710b928891a1420190148a72cce&pageIndex=0), or check out the [community](https://quantumexperience.ng.bluemix.net/qstage/#/community).\n",
    "\n",
    "*Contributors*\n",
    "Pieter Eendebak, Giacomo Nannicini and Rudy Raymond (based on [this article](https://arxiv.org/abs/1708.03684)) "
   ]
  },
  {
   "cell_type": "markdown",
   "metadata": {},
   "source": [
    "# Introduction\n",
    "\n",
    "Grover search is one of the most popular algorithms used for searching a solution among many possible candidates using Quantum Computers. If there are $N$ possible solutions among which there is exactly one solution (that can be verified by some function evaluation), then Grover search can be used to find the solution with $O(\\sqrt{N})$ function evaluations. This is in contrast to classical computers that require $\\Omega(N)$ function evaluations: the Grover search is a quantum algorithm that provably can be used search the correct solutions quadratically faster than its classical counterparts.  \n",
    "\n",
    "Here, we are going to illustrate the use of Grover search to find a particular value in a binary number.\n",
    "The key elements of Grovers algorithm are:\n",
    "1. Initialization to a uniform superposition\n",
    "2. The oracle function\n",
    "3. Reflections (amplitude amplification)"
   ]
  },
  {
   "cell_type": "code",
   "execution_count": 1,
   "metadata": {
    "collapsed": false
   },
   "outputs": [],
   "source": [
    "from IPython.display import Math\n",
    "import numpy as np\n",
    "import itertools\n",
    "import warnings\n",
    "from colorama import Fore\n",
    "from imp import reload\n",
    "\n",
    "# importing the QISKit\n",
    "import qiskit\n",
    "from qiskit.tools.visualization import circuit_drawer\n",
    "from qiskit import QuantumCircuit, ClassicalRegister, QuantumRegister, QISKitError #, QuantumJob\n",
    "from qiskit import available_backends, execute, register, get_backend, compile\n",
    "from qiskit.tools.qi.qi import state_fidelity, concurrence, purity, outer\n",
    "from qiskit.tools.visualization import plot_state, plot_histogram\n",
    "from sympy.interactive import printing\n",
    "printing.init_printing(use_latex='png')\n",
    "from IPython.display import display, Math, Latex\n",
    "\n",
    "from quantuminspire import QuantumInspireAPI\n",
    "from quantuminspire.qitools import format_vector, run_circuit"
   ]
  },
  {
   "cell_type": "markdown",
   "metadata": {},
   "source": [
    "# The oracle function\n",
    "\n",
    "We implement an oracle function (black box) that acts as -1 on a single basis state, and +1 on all other status. "
   ]
  },
  {
   "cell_type": "code",
   "execution_count": 2,
   "metadata": {
    "collapsed": false
   },
   "outputs": [
    {
     "data": {
      "image/png": "[encoded data removed]",
      "text/plain": [
       "<PIL.Image.Image image mode=RGB size=344x133 at 0x7F0766F3F160>"
      ]
     },
     "metadata": {},
     "output_type": "display_data"
    },
    {
     "name": "stdout",
     "output_type": "stream",
     "text": [
      "black box circuit:\n"
     ]
    },
    {
     "data": {
      "text/latex": [
       "$$\\mathrm{running\\ circuit\\ on\\ set\\ of\\ basis\\ states:}$$"
      ],
      "text/plain": [
       "<IPython.core.display.Math object>"
      ]
     },
     "metadata": {},
     "output_type": "display_data"
    },
    {
     "data": {
      "text/latex": [
       "$$|0 0 0>\\mathrm{transforms\\ to}:  \\left\\lvert 000\\right\\rangle$$"
      ],
      "text/plain": [
       "<IPython.core.display.Math object>"
      ]
     },
     "metadata": {},
     "output_type": "display_data"
    },
    {
     "data": {
      "text/latex": [
       "$$|0 0 1>\\mathrm{transforms\\ to}:  \\left\\lvert 001\\right\\rangle$$"
      ],
      "text/plain": [
       "<IPython.core.display.Math object>"
      ]
     },
     "metadata": {},
     "output_type": "display_data"
    },
    {
     "data": {
      "text/latex": [
       "$$|0 1 0>\\mathrm{transforms\\ to}:  \\left\\lvert 010\\right\\rangle$$"
      ],
      "text/plain": [
       "<IPython.core.display.Math object>"
      ]
     },
     "metadata": {},
     "output_type": "display_data"
    },
    {
     "data": {
      "text/latex": [
       "$$|0 1 1>\\mathrm{transforms\\ to}:  \\left\\lvert 011\\right\\rangle$$"
      ],
      "text/plain": [
       "<IPython.core.display.Math object>"
      ]
     },
     "metadata": {},
     "output_type": "display_data"
    },
    {
     "data": {
      "text/latex": [
       "$$|1 0 0>\\mathrm{transforms\\ to}:  \\left\\lvert 100\\right\\rangle$$"
      ],
      "text/plain": [
       "<IPython.core.display.Math object>"
      ]
     },
     "metadata": {},
     "output_type": "display_data"
    },
    {
     "data": {
      "text/latex": [
       "$$|1 0 1>\\mathrm{transforms\\ to}:  \\left\\lvert 101\\right\\rangle$$"
      ],
      "text/plain": [
       "<IPython.core.display.Math object>"
      ]
     },
     "metadata": {},
     "output_type": "display_data"
    },
    {
     "data": {
      "text/latex": [
       "$$|1 1 0>\\mathrm{transforms\\ to}:  \\left\\lvert 110\\right\\rangle$$"
      ],
      "text/plain": [
       "<IPython.core.display.Math object>"
      ]
     },
     "metadata": {},
     "output_type": "display_data"
    },
    {
     "data": {
      "text/latex": [
       "$$|1 1 1>\\mathrm{transforms\\ to}: - \\left\\lvert 111\\right\\rangle$$"
      ],
      "text/plain": [
       "<IPython.core.display.Math object>"
      ]
     },
     "metadata": {},
     "output_type": "display_data"
    }
   ],
   "source": [
    "n=3\n",
    "N=2**n\n",
    "q = QuantumRegister(n)\n",
    "qc = QuantumCircuit(q)\n",
    "\n",
    "if n==1:\n",
    "    def black_box(qc, q):    \n",
    "        qc.z(q)\n",
    "elif n==2:\n",
    "    def black_box(qc, q):\n",
    "        for i in range(n):\n",
    "            \tqc.s(q[i])\n",
    "        qc.h(q[1])\n",
    "        qc.cx(q[0], q[1])        \n",
    "        qc.h(q[1])\n",
    "        for i in range(n):\n",
    "            \tqc.s(q[i])\n",
    "else:\n",
    "    def black_box(qc, q):\n",
    "        qc.h(q[2])\n",
    "        qc.ccx(q[0], q[1], q[2])\n",
    "        qc.h(q[2])\n",
    "black_box(qc,q)\n",
    "cplot=circuit_drawer(qc)\n",
    "display(cplot)\n",
    "\n",
    "print('black box circuit:')\n",
    "run_circuit(qc, q)"
   ]
  },
  {
   "cell_type": "markdown",
   "metadata": {},
   "source": [
    "# Inversion about the average\n",
    "\n",
    "Another important procedure in Grover search is to have an operation that perfom the *inversion-about-the-average* step, namely, it performs the following transformation:\n",
    "\n",
    "$$\n",
    "\\sum_{j=0}^{2^{n}-1} \\alpha_j |j\\rangle \\rightarrow \\sum_{j=0}^{2^{n}-1}\\left(2 \\left( \\sum_{k=0}^{k=2^{n}-1} \\frac{\\alpha_k}{2^n} \\right) - \\alpha_j  \\right) |j\\rangle \n",
    "$$\n",
    "\n",
    "The above transformation can be used to amplify the probability amplitude $\\alpha_s$ when s is the solution and $\\alpha_s$ is negative (and small), while $\\alpha_j$ for $j \\neq s$ is positive. Roughly speaking, the value of $\\alpha_s$ increases by twice the average of the amplitudes, while others are reduced. The inversion-about-the-average can be realized with the sequence of unitary matrices as below:\n",
    "\n",
    "$$\n",
    "H^{\\otimes n} \\left(2|0\\rangle \\langle 0 | - I \\right) H^{\\otimes n}\n",
    "$$\n",
    "\n",
    "The first and last $H$ are just Hadamard gates applied to each qubit. The operation in the middle requires us to design a sub-circuit that flips the probability amplitude of the component of the quantum state corresponding to the all-zero binary string. The sub-circuit can be realized by the following function, which is a multi-qubit controlled-Z which flips the probability amplitude of the component of the quantum state corresponding to the all-one binary string. Applying X gates to all qubits before and after the function realizes the sub-circuit. "
   ]
  },
  {
   "cell_type": "code",
   "execution_count": 3,
   "metadata": {
    "collapsed": true
   },
   "outputs": [],
   "source": [
    "def n_controlled_Z(circuit, controls, target):\n",
    "    \"\"\"Implement a Z gate with multiple controls\"\"\"\n",
    "    if (len(controls) > 2):\n",
    "        raise ValueError('The controlled Z with more than 2 ' +\n",
    "                         'controls is not implemented')\n",
    "    elif (len(controls) == 1):\n",
    "        circuit.h(target)\n",
    "        circuit.cx(controls[0], target)\n",
    "        circuit.h(target)\n",
    "    elif (len(controls) == 2):\n",
    "        circuit.h(target)\n",
    "        circuit.ccx(controls[0], controls[1], target)\n",
    "        circuit.h(target)"
   ]
  },
  {
   "cell_type": "markdown",
   "metadata": {},
   "source": [
    "Finally, the inversion-about-the-average circuit can be realized by the following function:"
   ]
  },
  {
   "cell_type": "code",
   "execution_count": 4,
   "metadata": {
    "collapsed": true
   },
   "outputs": [],
   "source": [
    "def inversion_about_average(circuit, f_in, n):\n",
    "    \"\"\"Apply inversion about the average step of Grover's algorithm.\"\"\"\n",
    "    # Hadamards everywhere\n",
    "    if n==1:\n",
    "        circuit.x(f_in[0])\n",
    "        return\n",
    "    for j in range(n):\n",
    "        circuit.h(f_in[j])\n",
    "    # D matrix: flips the sign of the state |000> only\n",
    "    for j in range(n):\n",
    "        circuit.x(f_in[j])\n",
    "    n_controlled_Z(circuit, [f_in[j] for j in range(n-1)], f_in[n-1])\n",
    "    for j in range(n):\n",
    "        circuit.x(f_in[j])\n",
    "    # Hadamards everywhere again\n",
    "    for j in range(n):\n",
    "        circuit.h(f_in[j])"
   ]
  },
  {
   "cell_type": "markdown",
   "metadata": {},
   "source": [
    "We show the circuit that performs inversion about the average on $n$ qubits. We also show the effect of the circuit on the basis states."
   ]
  },
  {
   "cell_type": "code",
   "execution_count": 6,
   "metadata": {
    "collapsed": false
   },
   "outputs": [
    {
     "data": {
      "image/png": "[encoded data removed]",
      "text/plain": [
       "<PIL.Image.Image image mode=RGB size=603x138 at 0x7F07A4091588>"
      ]
     },
     "execution_count": 6,
     "metadata": {},
     "output_type": "execute_result"
    }
   ],
   "source": [
    "qInvAvg = QuantumCircuit(q)\n",
    "inversion_about_average(qInvAvg, q, n)\n",
    "circuit_drawer(qInvAvg)"
   ]
  },
  {
   "cell_type": "code",
   "execution_count": 7,
   "metadata": {
    "collapsed": false
   },
   "outputs": [
    {
     "name": "stdout",
     "output_type": "stream",
     "text": [
      "inversion average circuit:\n"
     ]
    },
    {
     "data": {
      "text/latex": [
       "$$\\mathrm{running\\ circuit\\ on\\ set\\ of\\ basis\\ states:}$$"
      ],
      "text/plain": [
       "<IPython.core.display.Math object>"
      ]
     },
     "metadata": {},
     "output_type": "display_data"
    },
    {
     "data": {
      "text/latex": [
       "$$|0 0 0>\\mathrm{transforms\\ to}: 0.75 \\left\\lvert 000\\right\\rangle-0.25 \\left\\lvert 001\\right\\rangle-0.25 \\left\\lvert 010\\right\\rangle-0.25 \\left\\lvert 011\\right\\rangle-0.25 \\left\\lvert 100\\right\\rangle-0.25 \\left\\lvert 101\\right\\rangle-0.25 \\left\\lvert 110\\right\\rangle-0.25 \\left\\lvert 111\\right\\rangle$$"
      ],
      "text/plain": [
       "<IPython.core.display.Math object>"
      ]
     },
     "metadata": {},
     "output_type": "display_data"
    },
    {
     "data": {
      "text/latex": [
       "$$|0 0 1>\\mathrm{transforms\\ to}: -0.25 \\left\\lvert 000\\right\\rangle + 0.75 \\left\\lvert 001\\right\\rangle-0.25 \\left\\lvert 010\\right\\rangle-0.25 \\left\\lvert 011\\right\\rangle-0.25 \\left\\lvert 100\\right\\rangle-0.25 \\left\\lvert 101\\right\\rangle-0.25 \\left\\lvert 110\\right\\rangle-0.25 \\left\\lvert 111\\right\\rangle$$"
      ],
      "text/plain": [
       "<IPython.core.display.Math object>"
      ]
     },
     "metadata": {},
     "output_type": "display_data"
    },
    {
     "data": {
      "text/latex": [
       "$$|0 1 0>\\mathrm{transforms\\ to}: -0.25 \\left\\lvert 000\\right\\rangle-0.25 \\left\\lvert 001\\right\\rangle + 0.75 \\left\\lvert 010\\right\\rangle-0.25 \\left\\lvert 011\\right\\rangle-0.25 \\left\\lvert 100\\right\\rangle-0.25 \\left\\lvert 101\\right\\rangle-0.25 \\left\\lvert 110\\right\\rangle-0.25 \\left\\lvert 111\\right\\rangle$$"
      ],
      "text/plain": [
       "<IPython.core.display.Math object>"
      ]
     },
     "metadata": {},
     "output_type": "display_data"
    },
    {
     "data": {
      "text/latex": [
       "$$|0 1 1>\\mathrm{transforms\\ to}: -0.25 \\left\\lvert 000\\right\\rangle-0.25 \\left\\lvert 001\\right\\rangle-0.25 \\left\\lvert 010\\right\\rangle + 0.75 \\left\\lvert 011\\right\\rangle-0.25 \\left\\lvert 100\\right\\rangle-0.25 \\left\\lvert 101\\right\\rangle-0.25 \\left\\lvert 110\\right\\rangle-0.25 \\left\\lvert 111\\right\\rangle$$"
      ],
      "text/plain": [
       "<IPython.core.display.Math object>"
      ]
     },
     "metadata": {},
     "output_type": "display_data"
    },
    {
     "data": {
      "text/latex": [
       "$$|1 0 0>\\mathrm{transforms\\ to}: -0.25 \\left\\lvert 000\\right\\rangle-0.25 \\left\\lvert 001\\right\\rangle-0.25 \\left\\lvert 010\\right\\rangle-0.25 \\left\\lvert 011\\right\\rangle + 0.75 \\left\\lvert 100\\right\\rangle-0.25 \\left\\lvert 101\\right\\rangle-0.25 \\left\\lvert 110\\right\\rangle-0.25 \\left\\lvert 111\\right\\rangle$$"
      ],
      "text/plain": [
       "<IPython.core.display.Math object>"
      ]
     },
     "metadata": {},
     "output_type": "display_data"
    },
    {
     "data": {
      "text/latex": [
       "$$|1 0 1>\\mathrm{transforms\\ to}: -0.25 \\left\\lvert 000\\right\\rangle-0.25 \\left\\lvert 001\\right\\rangle-0.25 \\left\\lvert 010\\right\\rangle-0.25 \\left\\lvert 011\\right\\rangle-0.25 \\left\\lvert 100\\right\\rangle + 0.75 \\left\\lvert 101\\right\\rangle-0.25 \\left\\lvert 110\\right\\rangle-0.25 \\left\\lvert 111\\right\\rangle$$"
      ],
      "text/plain": [
       "<IPython.core.display.Math object>"
      ]
     },
     "metadata": {},
     "output_type": "display_data"
    },
    {
     "data": {
      "text/latex": [
       "$$|1 1 0>\\mathrm{transforms\\ to}: -0.25 \\left\\lvert 000\\right\\rangle-0.25 \\left\\lvert 001\\right\\rangle-0.25 \\left\\lvert 010\\right\\rangle-0.25 \\left\\lvert 011\\right\\rangle-0.25 \\left\\lvert 100\\right\\rangle-0.25 \\left\\lvert 101\\right\\rangle + 0.75 \\left\\lvert 110\\right\\rangle-0.25 \\left\\lvert 111\\right\\rangle$$"
      ],
      "text/plain": [
       "<IPython.core.display.Math object>"
      ]
     },
     "metadata": {},
     "output_type": "display_data"
    },
    {
     "data": {
      "text/latex": [
       "$$|1 1 1>\\mathrm{transforms\\ to}: -0.25 \\left\\lvert 000\\right\\rangle-0.25 \\left\\lvert 001\\right\\rangle-0.25 \\left\\lvert 010\\right\\rangle-0.25 \\left\\lvert 011\\right\\rangle-0.25 \\left\\lvert 100\\right\\rangle-0.25 \\left\\lvert 101\\right\\rangle-0.25 \\left\\lvert 110\\right\\rangle + 0.75 \\left\\lvert 111\\right\\rangle$$"
      ],
      "text/plain": [
       "<IPython.core.display.Math object>"
      ]
     },
     "metadata": {},
     "output_type": "display_data"
    }
   ],
   "source": [
    "print('inversion average circuit:')\n",
    "qc = QuantumCircuit(q)\n",
    "inversion_about_average(qc, q, n)        \n",
    "run_circuit(qc, q, n=n)"
   ]
  },
  {
   "cell_type": "markdown",
   "metadata": {},
   "source": [
    "# Grover Search: putting all together\n",
    "\n",
    "The complete steps of Grover search is as follow.\n",
    "\n",
    "1. Create the superposition of all possible solutions as the initial state (with working qubits initialized to zero)\n",
    "$$  \\sum_{j=0}^{2^{n}-1} \\frac{1}{2^n} |j\\rangle |0\\rangle$$\n",
    "2. Repeat for $T$ times:\n",
    "    * Apply the blackbox function\n",
    "    * Apply the inversion-about-the-average function\n",
    "    \n",
    "3. Measure to obtain the solution"
   ]
  },
  {
   "cell_type": "markdown",
   "metadata": {},
   "source": [
    "Before we go to the code to perform the Grover search we make some remarks on the number of repetitions $T$ that we have to perform (for details see [Grover algorithm, Wikipedia](https://en.wikipedia.org/wiki/Grover%27s_algorithm)).\n",
    "\n",
    "Each Grover step rotates the 'winner solution' by a fixed angle. This means that after a certain number of steps we arrive at the optimal approximation (e.g. the amplitude of the winner solution is maximal). If we then apply more iterations, the quality of our result will go _down_. For a database of size $N=2^n$ the optimal number of iterations is\n",
    "$$r=\\pi \\sqrt{N}/4$$"
   ]
  },
  {
   "cell_type": "code",
   "execution_count": 8,
   "metadata": {
    "collapsed": false
   },
   "outputs": [
    {
     "data": {
      "text/latex": [
       "$$\\textrm{Rotation of the winner: } \\theta = 41.41 \\mathrm{\\ [deg]}$$"
      ],
      "text/plain": [
       "<IPython.core.display.Math object>"
      ]
     },
     "metadata": {},
     "output_type": "display_data"
    },
    {
     "name": "stdout",
     "output_type": "stream",
     "text": [
      "Optimal number of Grover iterations for n=3: 2.2\n"
     ]
    }
   ],
   "source": [
    "theta = 2*np.arcsin(1/np.sqrt(N))\n",
    "r=np.pi*np.sqrt(N)/4\n",
    "display(Math(r'\\textrm{Rotation of the winner: } \\theta = %.2f \\mathrm{\\ [deg]}' % (np.rad2deg(theta))) )\n",
    "print('Optimal number of Grover iterations for n=%d: %.1f' % (n,r) )\n",
    "T=int(r)"
   ]
  },
  {
   "cell_type": "markdown",
   "metadata": {},
   "source": [
    "The probablity of the winner state after $T$ iterations is $\\sin( (T+1/2)\\theta)^2$"
   ]
  },
  {
   "cell_type": "code",
   "execution_count": 9,
   "metadata": {
    "collapsed": false
   },
   "outputs": [
    {
     "name": "stdout",
     "output_type": "stream",
     "text": [
      "0 iterations: p 0.12\n",
      "1 iterations: p 0.78\n",
      "2 iterations: p 0.95\n",
      "3 iterations: p 0.33\n"
     ]
    }
   ],
   "source": [
    "for i in range( int(r+2) ):\n",
    "    p=np.sin( (i+1/2)*theta)**2\n",
    "    print('%d iterations: p %.2f' % (i, p))"
   ]
  },
  {
   "cell_type": "markdown",
   "metadata": {},
   "source": [
    "Finally we define the complete circuit for Grovers algorithm, excute it and show the results."
   ]
  },
  {
   "cell_type": "code",
   "execution_count": 10,
   "metadata": {
    "collapsed": false
   },
   "outputs": [
    {
     "data": {
      "text/latex": [
       "$$\\mathrm{state\\ after\\ initialization:\\ }0.35 \\left\\lvert 000\\right\\rangle + 0.35 \\left\\lvert 001\\right\\rangle + 0.35 \\left\\lvert 010\\right\\rangle + 0.35 \\left\\lvert 011\\right\\rangle + 0.35 \\left\\lvert 100\\right\\rangle + 0.35 \\left\\lvert 101\\right\\rangle + 0.35 \\left\\lvert 110\\right\\rangle + 0.35 \\left\\lvert 111\\right\\rangle$$"
      ],
      "text/plain": [
       "<IPython.core.display.Math object>"
      ]
     },
     "metadata": {},
     "output_type": "display_data"
    },
    {
     "name": "stdout",
     "output_type": "stream",
     "text": [
      "number of iterations T=2\n"
     ]
    },
    {
     "data": {
      "image/png": "[encoded data removed]",
      "text/plain": [
       "<Figure size 432x288 with 1 Axes>"
      ]
     },
     "metadata": {},
     "output_type": "display_data"
    }
   ],
   "source": [
    "\"\"\"Grover search implemented in QISKit.\n",
    "\n",
    "This module contains the code necessary to run Grover search on 3\n",
    "qubits, both with a simulator and with a real quantum computing\n",
    "device. This code is the companion for the paper\n",
    "\"An introduction to quantum computing, without the physics\",\n",
    "Giacomo Nannicini, https://arxiv.org/abs/1708.03684.\n",
    "\n",
    "\"\"\"\n",
    "from qiskit import QuantumProgram\n",
    "from qiskit.tools import visualization\n",
    "\n",
    "def input_state(circuit, f_in, n):\n",
    "    \"\"\"(n+1)-qubit input state for Grover search.\"\"\"\n",
    "    for j in range(n):\n",
    "        circuit.h(f_in[j])\n",
    "\n",
    "QPS_SPECS = {\n",
    "    'circuits': [{\n",
    "        'name': 'grover',\n",
    "        'quantum_registers': [\n",
    "            {'name': 'q', 'size': n},\n",
    "        ],\n",
    "        'classical_registers': [\n",
    "            {'name': 'ans', 'size': n},\n",
    "        ]}]\n",
    "}\n",
    "\n",
    "circuitName='grover'\n",
    "qp = QuantumProgram(specs=QPS_SPECS)\n",
    "qc = qp.get_circuit('grover')\n",
    "q = qp.get_quantum_register('q')\n",
    "ans = qp.get_classical_register('ans')\n",
    "\n",
    "input_state(qc, q, n)\n",
    "\n",
    "result = qp.execute(['grover'], backend='local_statevector_simulator', shots=10)\n",
    "state_vector = result.get_statevector(qc)\n",
    "m=display( Math('\\mathrm{state\\ after\\ initialization:\\ }' +format_vector(state_vector)))\n",
    "\n",
    "# apply T rounds of oracle and inversion about the average\n",
    "print('number of iterations T=%d'% T)\n",
    "for t in range(T):\n",
    "    for i in range(n):\n",
    "        qc.barrier(q[i]) # for better visualization\n",
    "    qc.iden(q[0])\n",
    "    # Apply T full iterations\n",
    "    black_box(qc, q)\n",
    "    for i in range(n):\n",
    "        qc.barrier(q[i])\n",
    "    qc.iden(q[0])\n",
    "    inversion_about_average(qc, q, n)\n",
    "\n",
    "# Measure the output register in the computational basis\n",
    "for j in range(n):\n",
    "    qc.measure(q[j], ans[j])\n",
    "\n",
    "# Execute circuit\n",
    "result = qp.execute(['grover'], backend='local_qasm_simulator', shots=n*1000)\n",
    "# Get counts and plot histogram\n",
    "counts = result.get_counts('grover')\n",
    "visualization.plot_histogram(counts)"
   ]
  },
  {
   "cell_type": "markdown",
   "metadata": {},
   "source": [
    "As expected, the state that is indicated by the oracle function has the highest probability of begin measured.\n",
    "\n",
    "We show the full circuit that was generated by the code."
   ]
  },
  {
   "cell_type": "code",
   "execution_count": 11,
   "metadata": {
    "collapsed": false
   },
   "outputs": [
    {
     "data": {
      "image/png": "[encoded data removed]",
      "text/plain": [
       "<PIL.Image.Image image mode=RGB size=1669x277 at 0x7F74D4C0F320>"
      ]
     },
     "execution_count": 11,
     "metadata": {},
     "output_type": "execute_result"
    }
   ],
   "source": [
    "circuit_drawer(qp.get_circuit(circuitName))"
   ]
  },
  {
   "cell_type": "markdown",
   "metadata": {},
   "source": [
    "# Run the cirquit on the Quantum Inspire simulator"
   ]
  },
  {
   "cell_type": "markdown",
   "metadata": {},
   "source": [
    "First we make a connection to the Quantum Inspire website."
   ]
  },
  {
   "cell_type": "code",
   "execution_count": 11,
   "metadata": {
    "collapsed": false
   },
   "outputs": [
    {
     "name": "stdout",
     "output_type": "stream",
     "text": [
      "Enter username\n",
      "peendebak\n",
      "Enter password\n",
      "········\n",
      "backend: qxsim (qubits 32)\n",
      "backend: qxsim-ss (qubits 31)\n"
     ]
    }
   ],
   "source": [
    "from quantuminspire.qitools import QuantumInspireAPI\n",
    "from requests.auth import HTTPBasicAuth\n",
    "from getpass import getpass\n",
    "\n",
    "try:\n",
    "    passwd\n",
    "except:\n",
    "    print('Enter username')\n",
    "    username = input();\n",
    "    print('Enter password')\n",
    "    passwd = getpass();\n",
    "\n",
    "auth = HTTPBasicAuth(username, passwd)\n",
    "qi = QuantumInspireAPI(server=r'https://api.quantum-inspire.com/', auth=auth)  \n",
    "_=qi.list_backends()   "
   ]
  },
  {
   "cell_type": "markdown",
   "metadata": {},
   "source": [
    "We can list backends and perform other functions with the `QuantumInspireAPI`."
   ]
  },
  {
   "cell_type": "code",
   "execution_count": 12,
   "metadata": {
    "collapsed": false
   },
   "outputs": [
    {
     "name": "stdout",
     "output_type": "stream",
     "text": [
      "backend: qxsim (qubits 32)\n",
      "backend: qxsim-ss (qubits 31)\n"
     ]
    }
   ],
   "source": [
    "_=qi.list_backends()"
   ]
  },
  {
   "cell_type": "markdown",
   "metadata": {},
   "source": [
    "We create a QisKit backend for the Quantum Inspire interface and execute the circuit generated above."
   ]
  },
  {
   "cell_type": "code",
   "execution_count": 13,
   "metadata": {
    "collapsed": false
   },
   "outputs": [
    {
     "name": "stdout",
     "output_type": "stream",
     "text": [
      "run_circuit: nshots 1024\n",
      "generate_cqasm: 3 qubits\n",
      "\n",
      "submitting qasm code to quantum inspire qi-tmpjob-c57a5e7d-95ce-11e8-9642-80fa5b08c98e\n",
      "waiting for result of job 165 (iteration 0)\n",
      "waiting for result of job 165 (iteration 1)\n",
      "result of job 165 is COMPLETE\n"
     ]
    },
    {
     "ename": "TypeError",
     "evalue": "__init__() takes 2 positional arguments but 3 were given",
     "output_type": "error",
     "traceback": [
      "\u001b[0;31m---------------------------------------------------------------------------\u001b[0m",
      "\u001b[0;31mTypeError\u001b[0m                                 Traceback (most recent call last)",
      "\u001b[0;32m<ipython-input-13-b4d1f7b88d39>\u001b[0m in \u001b[0;36m<module>\u001b[0;34m()\u001b[0m\n\u001b[1;32m      1\u001b[0m \u001b[0;32mfrom\u001b[0m \u001b[0mquantuminspire\u001b[0m\u001b[0;34m.\u001b[0m\u001b[0mqiskit\u001b[0m\u001b[0;34m.\u001b[0m\u001b[0mqiskit_backend\u001b[0m \u001b[0;32mimport\u001b[0m \u001b[0mQiSimulatorPy\u001b[0m\u001b[0;34m\u001b[0m\u001b[0m\n\u001b[1;32m      2\u001b[0m \u001b[0mbackend\u001b[0m\u001b[0;34m=\u001b[0m\u001b[0mQiSimulatorPy\u001b[0m\u001b[0;34m(\u001b[0m\u001b[0mqi_api\u001b[0m\u001b[0;34m=\u001b[0m\u001b[0mqi\u001b[0m\u001b[0;34m)\u001b[0m\u001b[0;34m\u001b[0m\u001b[0m\n\u001b[0;32m----> 3\u001b[0;31m \u001b[0mj\u001b[0m\u001b[0;34m=\u001b[0m\u001b[0mexecute\u001b[0m\u001b[0;34m(\u001b[0m\u001b[0mqc\u001b[0m\u001b[0;34m,\u001b[0m \u001b[0mbackend\u001b[0m\u001b[0;34m)\u001b[0m\u001b[0;34m\u001b[0m\u001b[0m\n\u001b[0m",
      "\u001b[0;32m/home/eendebakpt/.local/lib/python3.5/site-packages/qiskit/wrapper/_wrapper.py\u001b[0m in \u001b[0;36mexecute\u001b[0;34m(circuits, backend, config, basis_gates, coupling_map, initial_layout, shots, max_credits, seed, qobj_id, hpc, skip_transpiler)\u001b[0m\n\u001b[1;32m    275\u001b[0m                    \u001b[0mshots\u001b[0m\u001b[0;34m,\u001b[0m \u001b[0mmax_credits\u001b[0m\u001b[0;34m,\u001b[0m \u001b[0mseed\u001b[0m\u001b[0;34m,\u001b[0m \u001b[0mqobj_id\u001b[0m\u001b[0;34m,\u001b[0m \u001b[0mhpc\u001b[0m\u001b[0;34m,\u001b[0m\u001b[0;34m\u001b[0m\u001b[0m\n\u001b[1;32m    276\u001b[0m                    skip_transpiler)\n\u001b[0;32m--> 277\u001b[0;31m     \u001b[0;32mreturn\u001b[0m \u001b[0mbackend\u001b[0m\u001b[0;34m.\u001b[0m\u001b[0mrun\u001b[0m\u001b[0;34m(\u001b[0m\u001b[0mqobj\u001b[0m\u001b[0;34m)\u001b[0m\u001b[0;34m\u001b[0m\u001b[0m\n\u001b[0m\u001b[1;32m    278\u001b[0m \u001b[0;34m\u001b[0m\u001b[0m\n\u001b[1;32m    279\u001b[0m \u001b[0;34m\u001b[0m\u001b[0m\n",
      "\u001b[0;32m/home/eendebakpt/svn/SDK/quantuminspire/qiskit/qiskit_backend.py\u001b[0m in \u001b[0;36mrun\u001b[0;34m(self, q_job)\u001b[0m\n\u001b[1;32m     74\u001b[0m             \u001b[0mLocalJob\u001b[0m\u001b[0;34m:\u001b[0m \u001b[0mderived\u001b[0m \u001b[0;32mfrom\u001b[0m \u001b[0mBaseJob\u001b[0m\u001b[0;34m\u001b[0m\u001b[0m\n\u001b[1;32m     75\u001b[0m         \"\"\"\n\u001b[0;32m---> 76\u001b[0;31m         \u001b[0;32mreturn\u001b[0m \u001b[0mself\u001b[0m\u001b[0;34m.\u001b[0m\u001b[0m_run_job\u001b[0m\u001b[0;34m(\u001b[0m \u001b[0mq_job\u001b[0m\u001b[0;34m)\u001b[0m\u001b[0;34m\u001b[0m\u001b[0m\n\u001b[0m\u001b[1;32m     77\u001b[0m \u001b[0;34m\u001b[0m\u001b[0m\n\u001b[1;32m     78\u001b[0m     \u001b[0;32mdef\u001b[0m \u001b[0m_run_job\u001b[0m\u001b[0;34m(\u001b[0m\u001b[0mself\u001b[0m\u001b[0;34m,\u001b[0m \u001b[0mqobj\u001b[0m\u001b[0;34m)\u001b[0m\u001b[0;34m:\u001b[0m\u001b[0;34m\u001b[0m\u001b[0m\n",
      "\u001b[0;32m/home/eendebakpt/svn/SDK/quantuminspire/qiskit/qiskit_backend.py\u001b[0m in \u001b[0;36m_run_job\u001b[0;34m(self, qobj)\u001b[0m\n\u001b[1;32m     96\u001b[0m                   \u001b[0;34m'success'\u001b[0m\u001b[0;34m:\u001b[0m \u001b[0;32mTrue\u001b[0m\u001b[0;34m,\u001b[0m\u001b[0;34m\u001b[0m\u001b[0m\n\u001b[1;32m     97\u001b[0m                   'time_taken': (end - start)}\n\u001b[0;32m---> 98\u001b[0;31m         \u001b[0;32mreturn\u001b[0m \u001b[0mResult\u001b[0m\u001b[0;34m(\u001b[0m\u001b[0mresult\u001b[0m\u001b[0;34m,\u001b[0m \u001b[0mqobj\u001b[0m\u001b[0;34m)\u001b[0m\u001b[0;34m\u001b[0m\u001b[0m\n\u001b[0m\u001b[1;32m     99\u001b[0m \u001b[0;34m\u001b[0m\u001b[0m\n\u001b[1;32m    100\u001b[0m     \u001b[0;32mdef\u001b[0m \u001b[0mgenerate_cqasm\u001b[0m\u001b[0;34m(\u001b[0m\u001b[0mself\u001b[0m\u001b[0;34m,\u001b[0m \u001b[0mccircuit\u001b[0m\u001b[0;34m)\u001b[0m\u001b[0;34m:\u001b[0m\u001b[0;34m\u001b[0m\u001b[0m\n",
      "\u001b[0;31mTypeError\u001b[0m: __init__() takes 2 positional arguments but 3 were given"
     ]
    }
   ],
   "source": [
    "from quantuminspire.qiskit.qiskit_backend import QiSimulatorPy\n",
    "backend=QiSimulatorPy(qi_api=qi)    \n",
    "j=execute(qc, backend)"
   ]
  },
  {
   "cell_type": "markdown",
   "metadata": {},
   "source": [
    "We can print the results and also show the cQASM that was generated."
   ]
  },
  {
   "cell_type": "code",
   "execution_count": null,
   "metadata": {
    "collapsed": false
   },
   "outputs": [],
   "source": [
    "print(Fore.BLUE+'Generated histogram:' + Fore.RESET)\n",
    "print(j.get_counts())\n",
    "print(Fore.BLUE+'Generated cQASM:' + Fore.RESET)\n",
    "print(backend._cqasm[0:101] + '\\n....\\n' + backend._cqasm[-100:])"
   ]
  },
  {
   "cell_type": "markdown",
   "metadata": {},
   "source": [
    "Visualization can be done with the normal Python plotting routines, or with the QisKit SDK."
   ]
  },
  {
   "cell_type": "code",
   "execution_count": 16,
   "metadata": {
    "collapsed": false
   },
   "outputs": [
    {
     "data": {
      "image/png": "[encoded data removed]",
      "text/plain": [
       "<Figure size 432x288 with 1 Axes>"
      ]
     },
     "metadata": {},
     "output_type": "display_data"
    }
   ],
   "source": [
    "plot_histogram(j.get_counts(qc))"
   ]
  },
  {
   "cell_type": "markdown",
   "metadata": {},
   "source": [
    "A screenshot from the execution result on the Quantum Inspire website."
   ]
  },
  {
   "cell_type": "markdown",
   "metadata": {},
   "source": [
    "![title](grover-qi.png)"
   ]
  },
  {
   "cell_type": "markdown",
   "metadata": {},
   "source": [
    "## References\n",
    "\n",
    "[1] \"[A fast quantum mechanical algorithm for database search](https://arxiv.org/abs/quant-ph/9605043)\", L. K. Grover, Proceedings of the 28th Annual ACM Symposium on the Theory of Computing (STOC 1996)\n",
    "\n",
    "[2] \"[Tight bounds on quantum searching](https://arxiv.org/abs/quant-ph/9605034)\", Boyer et al., Fortsch.Phys.46:493-506,1998\n",
    "\n",
    "[3] \"[Quantum Inspire](https://www.quantum-inspire.com/)\""
   ]
  },
  {
   "cell_type": "markdown",
   "metadata": {},
   "source": [
    "# Debugging code"
   ]
  },
  {
   "cell_type": "code",
   "execution_count": 107,
   "metadata": {
    "collapsed": true
   },
   "outputs": [],
   "source": [
    "#plot_state(rho,'paulivec')\n",
    "#_=plot_state(rho, 'city')"
   ]
  },
  {
   "cell_type": "markdown",
   "metadata": {},
   "source": [
    "## Format code"
   ]
  },
  {
   "cell_type": "code",
   "execution_count": 106,
   "metadata": {
    "collapsed": false
   },
   "outputs": [
    {
     "data": {
      "text/latex": [
       "$$0.1 \\left\\lvert 001\\right\\rangle-0.2 \\left\\lvert 010\\right\\rangle + (-1 + 2 j) \\left\\lvert 100\\right\\rangle- \\left\\lvert 101\\right\\rangle$$"
      ],
      "text/plain": [
       "<IPython.core.display.Math object>"
      ]
     },
     "metadata": {},
     "output_type": "display_data"
    }
   ],
   "source": [
    "display(Math(format_vector([0,.1,-0.2,0,-1+2j,-1,0,0])))"
   ]
  },
  {
   "cell_type": "markdown",
   "metadata": {},
   "source": [
    "## Run statevector simulator"
   ]
  },
  {
   "cell_type": "code",
   "execution_count": 105,
   "metadata": {
    "collapsed": false
   },
   "outputs": [
    {
     "data": {
      "text/latex": [
       "$$\\mathrm{state\\ after\\ initialization:\\ }0.35 \\left\\lvert 000\\right\\rangle + 0.35 \\left\\lvert 001\\right\\rangle + 0.35 \\left\\lvert 010\\right\\rangle + 0.35 \\left\\lvert 011\\right\\rangle + 0.35 \\left\\lvert 100\\right\\rangle + 0.35 \\left\\lvert 101\\right\\rangle + 0.35 \\left\\lvert 110\\right\\rangle + 0.35 \\left\\lvert 111\\right\\rangle$$"
      ],
      "text/plain": [
       "<IPython.core.display.Math object>"
      ]
     },
     "metadata": {},
     "output_type": "display_data"
    },
    {
     "name": "stdout",
     "output_type": "stream",
     "text": [
      "number of iterations T=3\n"
     ]
    },
    {
     "data": {
      "text/latex": [
       "$$\\mathrm{state\\ final:\\ }0.31 \\left\\lvert 000\\right\\rangle + 0.31 \\left\\lvert 001\\right\\rangle + 0.31 \\left\\lvert 010\\right\\rangle + 0.31 \\left\\lvert 011\\right\\rangle + 0.31 \\left\\lvert 100\\right\\rangle + 0.31 \\left\\lvert 101\\right\\rangle + 0.31 \\left\\lvert 110\\right\\rangle-0.57 \\left\\lvert 111\\right\\rangle$$"
      ],
      "text/plain": [
       "<IPython.core.display.Math object>"
      ]
     },
     "metadata": {},
     "output_type": "display_data"
    }
   ],
   "source": [
    "qp = QuantumProgram(specs=QPS_SPECS)\n",
    "qc = qp.get_circuit('grover')\n",
    "q = qp.get_quantum_register('q')\n",
    "ans = qp.get_classical_register('ans')\n",
    "\n",
    "input_state(qc, q, n)\n",
    "\n",
    "result = qp.execute(['grover'], backend='local_statevector_simulator', shots=10)\n",
    "state_vector = result.get_statevector(qc)\n",
    "m=display( Math('\\mathrm{state\\ after\\ initialization:\\ }' +format_vector(state_vector)))\n",
    "\n",
    "# apply T rounds of oracle and inversion about the average\n",
    "print('number of iterations T=%d'% T)\n",
    "T=3\n",
    "for t in range(T):\n",
    "    for i in range(n):\n",
    "        qc.barrier(q[i]) # for better visualization\n",
    "    qc.iden(q[0])\n",
    "    # Apply T full iterations\n",
    "    black_box(qc, q)\n",
    "    for i in range(n):\n",
    "        qc.barrier(q[i])\n",
    "    qc.iden(q[0])\n",
    "    inversion_about_average(qc, q, n)\n",
    "\n",
    "# Execute circuit with state vector simulator\n",
    "result = qp.execute(['grover'], backend='local_statevector_simulator', shots=10000)\n",
    "state_vector = result.get_statevector(qc)\n",
    "m=display( Math('\\mathrm{state\\ final:\\ }' +format_vector(state_vector)))\n"
   ]
  },
  {
   "cell_type": "code",
   "execution_count": null,
   "metadata": {
    "collapsed": true
   },
   "outputs": [],
   "source": []
  }
 ],
 "metadata": {
  "anaconda-cloud": {},
  "kernelspec": {
   "display_name": "Python 3",
   "language": "python",
   "name": "python3"
  },
  "language_info": {
   "codemirror_mode": {
    "name": "ipython",
    "version": 3
   },
   "file_extension": ".py",
   "mimetype": "text/x-python",
   "name": "python",
   "nbconvert_exporter": "python",
   "pygments_lexer": "ipython3",
   "version": "3.5.2"
  },
  "latex_envs": {
   "bibliofile": "biblio.bib",
   "cite_by": "apalike",
   "current_citInitial": 1,
   "eqLabelWithNumbers": true,
   "eqNumInitial": 0
  },
  "nav_menu": {},
  "toc": {
   "navigate_menu": true,
   "number_sections": true,
   "sideBar": true,
   "threshold": 6,
   "toc_cell": false,
   "toc_section_display": "block",
   "toc_window_display": false
  }
 },
 "nbformat": 4,
 "nbformat_minor": 1
}
